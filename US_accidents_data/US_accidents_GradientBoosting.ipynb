{
 "cells": [
  {
   "cell_type": "code",
   "execution_count": 1,
   "metadata": {},
   "outputs": [
    {
     "name": "stdout",
     "output_type": "stream",
     "text": [
      "   Severity                                        Description  \\\n",
      "0         3  Right lane blocked due to accident on I-70 Eas...   \n",
      "1         2  Accident on Brice Rd at Tussing Rd. Expect del...   \n",
      "2         2  Accident on OH-32 State Route 32 Westbound at ...   \n",
      "3         3  Accident on I-75 Southbound at Exits 52 52B US...   \n",
      "4         2  Accident on McEwen Rd at OH-725 Miamisburg Cen...   \n",
      "\n",
      "                      Street          City State Country  Temperature(F)  \\\n",
      "0                     I-70 E        Dayton    OH      US            36.9   \n",
      "1                   Brice Rd  Reynoldsburg    OH      US            37.9   \n",
      "2             State Route 32  Williamsburg    OH      US            36.0   \n",
      "3                     I-75 S        Dayton    OH      US            35.1   \n",
      "4  Miamisburg Centerville Rd        Dayton    OH      US            36.0   \n",
      "\n",
      "   Wind_Chill(F)  Humidity(%)  Pressure(in)  Visibility(mi) Wind_Direction  \\\n",
      "0            NaN         91.0         29.68            10.0           Calm   \n",
      "1            NaN        100.0         29.65            10.0           Calm   \n",
      "2           33.3        100.0         29.67            10.0             SW   \n",
      "3           31.0         96.0         29.64             9.0             SW   \n",
      "4           33.3         89.0         29.65             6.0             SW   \n",
      "\n",
      "   Wind_Speed(mph) Weather_Condition  \n",
      "0              NaN        Light Rain  \n",
      "1              NaN        Light Rain  \n",
      "2              3.5          Overcast  \n",
      "3              4.6     Mostly Cloudy  \n",
      "4              3.5     Mostly Cloudy  \n"
     ]
    }
   ],
   "source": [
    "import pandas as pd\n",
    "\n",
    "# Load the dataset with only the necessary columns\n",
    "selected_columns = ['Severity', 'Description', 'Street', 'City', 'State', \n",
    "                    'Country', 'Temperature(F)', 'Wind_Chill(F)', 'Humidity(%)',\n",
    "                    'Pressure(in)', 'Visibility(mi)', 'Wind_Direction', \n",
    "                    'Wind_Speed(mph)', 'Weather_Condition']\n",
    "\n",
    "df = pd.read_csv('E:/Master_thesis_REV/Datasets/Dataset_US_accidents/archive/US_Accidents_March23.csv', usecols=selected_columns)\n",
    "\n",
    "# Display the first few rows to check the data\n",
    "print(df.head())\n"
   ]
  },
  {
   "cell_type": "code",
   "execution_count": 2,
   "metadata": {},
   "outputs": [
    {
     "name": "stdout",
     "output_type": "stream",
     "text": [
      "   Severity  Description   Street     City   State  Country  Temperature(F)  \\\n",
      "2         2          1.0    252.0   3010.0  118115  7728394            36.0   \n",
      "3         3          5.0  27546.0  24572.0  118115  7728394            35.1   \n",
      "4         2          2.0    729.0  24572.0  118115  7728394            36.0   \n",
      "5         3          1.0    104.0   1073.0  118115  7728394            37.9   \n",
      "6         2          1.0     26.0  24572.0  118115  7728394            34.0   \n",
      "\n",
      "   Wind_Chill(F)  Humidity(%)  Pressure(in)  Visibility(mi)  Wind_Direction  \\\n",
      "2           33.3        100.0         29.67            10.0        364470.0   \n",
      "3           31.0         96.0         29.64             9.0        364470.0   \n",
      "4           33.3         89.0         29.65             6.0        364470.0   \n",
      "5           35.5         97.0         29.63             7.0        384840.0   \n",
      "6           31.0        100.0         29.66             7.0        353806.0   \n",
      "\n",
      "   Wind_Speed(mph)  Weather_Condition  \n",
      "2              3.5           382866.0  \n",
      "3              4.6          1016195.0  \n",
      "4              3.5          1016195.0  \n",
      "5              3.5           352957.0  \n",
      "6              3.5           382866.0  \n"
     ]
    }
   ],
   "source": [
    "# Handle missing values - example with 'Wind_Speed(mph)'\n",
    "df['Wind_Speed(mph)'].fillna(df['Wind_Speed(mph)'].mean(), inplace=True)\n",
    "\n",
    "# Frequency encoding for categorical columns\n",
    "categorical_columns = ['Description', 'Street', 'City', 'State', 'Country', 'Weather_Condition', 'Wind_Direction']\n",
    "\n",
    "for col in categorical_columns:\n",
    "    freq = df[col].value_counts()\n",
    "    df[col] = df[col].map(freq)\n",
    "\n",
    "# Drop any remaining rows with missing values if necessary\n",
    "df = df.dropna()\n",
    "\n",
    "# Display the first few rows after preprocessing\n",
    "print(df.head())\n"
   ]
  },
  {
   "cell_type": "code",
   "execution_count": 3,
   "metadata": {},
   "outputs": [
    {
     "name": "stdout",
     "output_type": "stream",
     "text": [
      "X shape: (5676313, 13), y shape: (5676313,)\n"
     ]
    }
   ],
   "source": [
    "# Define features (X) and target (y)\n",
    "X = df.drop(columns=['Severity'])\n",
    "y = df['Severity']\n",
    "\n",
    "# Display the shapes of X and y to confirm\n",
    "print(f'X shape: {X.shape}, y shape: {y.shape}')\n"
   ]
  },
  {
   "cell_type": "code",
   "execution_count": 4,
   "metadata": {},
   "outputs": [],
   "source": [
    "from sklearn.model_selection import train_test_split\n",
    "\n",
    "# Function to sample data\n",
    "def sample_data(X, y, sample_size):\n",
    "    if isinstance(sample_size, float):\n",
    "        if 0 < sample_size < 1.0:\n",
    "            return train_test_split(X, y, test_size=0.2, train_size=sample_size, random_state=42)\n",
    "        elif sample_size == 1.0:\n",
    "            return train_test_split(X, y, test_size=0.001, random_state=42)\n",
    "        else:\n",
    "            raise ValueError(\"sample_size as float must be in the range (0.0, 1.0) or equal to 1.0.\")\n",
    "    elif isinstance(sample_size, int):\n",
    "        if sample_size > len(X):\n",
    "            raise ValueError(f\"sample_size {sample_size} exceeds the number of available samples {len(X)}.\")\n",
    "        sampled_X = X.sample(n=sample_size, random_state=42)\n",
    "        sampled_y = y.loc[sampled_X.index]\n",
    "        return train_test_split(sampled_X, sampled_y, test_size=0.2, random_state=42)\n",
    "    else:\n",
    "        raise ValueError(\"sample_size must be a float or an integer\")\n"
   ]
  },
  {
   "cell_type": "code",
   "execution_count": 7,
   "metadata": {},
   "outputs": [],
   "source": [
    "from sklearn.ensemble import GradientBoostingRegressor\n",
    "from sklearn.model_selection import RandomizedSearchCV\n",
    "from sklearn.metrics import mean_squared_error, mean_absolute_percentage_error, r2_score\n",
    "import numpy as np\n",
    "import time\n",
    "import psutil\n",
    "import pandas as pd\n",
    "\n",
    "# Function to calculate and return metrics\n",
    "def calculate_metrics(X_train, X_test, y_train, y_test):\n",
    "    gbr = GradientBoostingRegressor(random_state=42)\n",
    "\n",
    "    # Define hyperparameters for RandomizedSearchCV\n",
    "    param_distributions = {\n",
    "        'n_estimators': [50],  # Number of boosting stages\n",
    "        'learning_rate': [0.1],  # Learning rate\n",
    "        'max_depth': [3],  # Depth of individual estimators\n",
    "        'min_samples_split': [5],  # Min samples to split\n",
    "        'min_samples_leaf': [2],  # Min samples in leaf\n",
    "        'subsample': [0.8]  # Subsampling for training\n",
    "    }\n",
    "\n",
    "    random_search = RandomizedSearchCV(gbr, param_distributions, n_iter=10, cv=3, scoring='neg_mean_squared_error', random_state=42, n_jobs=-1)\n",
    "\n",
    "    start_time = time.time()\n",
    "    start_cpu = psutil.cpu_percent(interval=None)\n",
    "    random_search.fit(X_train, y_train)\n",
    "    end_cpu = psutil.cpu_percent(interval=None)\n",
    "    end_time = time.time()\n",
    "\n",
    "    # Calculate time and CPU usage\n",
    "    execution_time = end_time - start_time\n",
    "    avg_cpu_usage = (start_cpu + end_cpu) / 2\n",
    "\n",
    "    y_pred = random_search.predict(X_test)\n",
    "    rmse = np.sqrt(mean_squared_error(y_test, y_pred))\n",
    "    mape = mean_absolute_percentage_error(y_test, y_pred)\n",
    "    r2 = r2_score(y_test, y_pred)\n",
    "    mse = mean_squared_error(y_test, y_pred)\n",
    "\n",
    "    # Calculate the range of the target variable\n",
    "    target_range = y_train.max() - y_train.min()\n",
    "\n",
    "    # Calculate normalized RMSE (nRMSE)\n",
    "    nrmse = rmse / target_range\n",
    "    \n",
    "    memory_usage_MB = X_train.memory_usage(deep=True).sum() / (1024 ** 2)\n",
    "    normalized_time = execution_time / memory_usage_MB\n",
    "    \n",
    "    return {\n",
    "        'RMSE': rmse,\n",
    "        'MAPE': mape,\n",
    "        'R2': r2,\n",
    "        'MSE': mse,\n",
    "        'nRMSE': nrmse,\n",
    "        'Execution Time (Raw)': execution_time,\n",
    "        'Normalized Time (s/MB)': normalized_time,\n",
    "        'Average CPU Usage': avg_cpu_usage\n",
    "    }\n"
   ]
  },
  {
   "cell_type": "code",
   "execution_count": 8,
   "metadata": {},
   "outputs": [
    {
     "name": "stderr",
     "output_type": "stream",
     "text": [
      "c:\\Users\\manpr\\AppData\\Local\\Programs\\Python\\Python312\\Lib\\site-packages\\sklearn\\model_selection\\_search.py:307: UserWarning: The total space of parameters 1 is smaller than n_iter=10. Running 1 iterations. For exhaustive searches, use GridSearchCV.\n",
      "  warnings.warn(\n"
     ]
    },
    {
     "name": "stdout",
     "output_type": "stream",
     "text": [
      "Metrics for sample size 1.0:\n",
      "RMSE: 0.43379474744429514\n",
      "MAPE: 0.1163801425995731\n",
      "R2: 0.11489929118557474\n",
      "MSE: 0.1881778829102598\n",
      "nRMSE: 0.14459824914809838\n",
      "Execution Time (Raw): 1325.296961069107\n",
      "Normalized Time (s/MB): 2.1880806325434343\n",
      "Average CPU Usage: 44.75\n",
      "Sample Size: 1.0\n",
      "--------------------------------------------------\n"
     ]
    },
    {
     "name": "stderr",
     "output_type": "stream",
     "text": [
      "c:\\Users\\manpr\\AppData\\Local\\Programs\\Python\\Python312\\Lib\\site-packages\\sklearn\\model_selection\\_search.py:307: UserWarning: The total space of parameters 1 is smaller than n_iter=10. Running 1 iterations. For exhaustive searches, use GridSearchCV.\n",
      "  warnings.warn(\n"
     ]
    },
    {
     "name": "stdout",
     "output_type": "stream",
     "text": [
      "Metrics for sample size 0.5:\n",
      "RMSE: 0.4299059369914377\n",
      "MAPE: 0.1125393379416248\n",
      "R2: 0.11295131299556938\n",
      "MSE: 0.184819114660486\n",
      "nRMSE: 0.1433019789971459\n",
      "Execution Time (Raw): 620.1266582012177\n",
      "Normalized Time (s/MB): 2.0456250301692367\n",
      "Average CPU Usage: 11.8\n",
      "Sample Size: 0.5\n",
      "--------------------------------------------------\n"
     ]
    },
    {
     "name": "stderr",
     "output_type": "stream",
     "text": [
      "c:\\Users\\manpr\\AppData\\Local\\Programs\\Python\\Python312\\Lib\\site-packages\\sklearn\\model_selection\\_search.py:307: UserWarning: The total space of parameters 1 is smaller than n_iter=10. Running 1 iterations. For exhaustive searches, use GridSearchCV.\n",
      "  warnings.warn(\n"
     ]
    },
    {
     "name": "stdout",
     "output_type": "stream",
     "text": [
      "Metrics for sample size 0.25:\n",
      "RMSE: 0.4301462162809871\n",
      "MAPE: 0.11241040390964986\n",
      "R2: 0.11195947281387975\n",
      "MSE: 0.18502576738084975\n",
      "nRMSE: 0.14338207209366235\n",
      "Execution Time (Raw): 424.109938621521\n",
      "Normalized Time (s/MB): 2.798040995380703\n",
      "Average CPU Usage: 10.55\n",
      "Sample Size: 0.25\n",
      "--------------------------------------------------\n"
     ]
    },
    {
     "name": "stderr",
     "output_type": "stream",
     "text": [
      "c:\\Users\\manpr\\AppData\\Local\\Programs\\Python\\Python312\\Lib\\site-packages\\sklearn\\model_selection\\_search.py:307: UserWarning: The total space of parameters 1 is smaller than n_iter=10. Running 1 iterations. For exhaustive searches, use GridSearchCV.\n",
      "  warnings.warn(\n"
     ]
    },
    {
     "name": "stdout",
     "output_type": "stream",
     "text": [
      "Metrics for sample size 0.125:\n",
      "RMSE: 0.43000365578170896\n",
      "MAPE: 0.11238049399535452\n",
      "R2: 0.11254801000020709\n",
      "MSE: 0.18490314398563443\n",
      "nRMSE: 0.14333455192723632\n",
      "Execution Time (Raw): 133.6307213306427\n",
      "Normalized Time (s/MB): 1.7632420392727834\n",
      "Average CPU Usage: 9.399999999999999\n",
      "Sample Size: 0.125\n",
      "--------------------------------------------------\n"
     ]
    },
    {
     "name": "stderr",
     "output_type": "stream",
     "text": [
      "c:\\Users\\manpr\\AppData\\Local\\Programs\\Python\\Python312\\Lib\\site-packages\\sklearn\\model_selection\\_search.py:307: UserWarning: The total space of parameters 1 is smaller than n_iter=10. Running 1 iterations. For exhaustive searches, use GridSearchCV.\n",
      "  warnings.warn(\n"
     ]
    },
    {
     "name": "stdout",
     "output_type": "stream",
     "text": [
      "Metrics for sample size 100:\n",
      "RMSE: 0.3949197376858192\n",
      "MAPE: 0.11176982486504108\n",
      "R2: 0.4001476953313987\n",
      "MSE: 0.1559615992138363\n",
      "nRMSE: 0.13163991256193974\n",
      "Execution Time (Raw): 1.9118471145629883\n",
      "Normalized Time (s/MB): 223.74073660714285\n",
      "Average CPU Usage: 10.25\n",
      "Sample Size: 100\n",
      "--------------------------------------------------\n"
     ]
    },
    {
     "name": "stderr",
     "output_type": "stream",
     "text": [
      "c:\\Users\\manpr\\AppData\\Local\\Programs\\Python\\Python312\\Lib\\site-packages\\sklearn\\model_selection\\_search.py:307: UserWarning: The total space of parameters 1 is smaller than n_iter=10. Running 1 iterations. For exhaustive searches, use GridSearchCV.\n",
      "  warnings.warn(\n"
     ]
    },
    {
     "name": "stdout",
     "output_type": "stream",
     "text": [
      "Metrics for sample size 1000:\n",
      "RMSE: 0.45966361534625805\n",
      "MAPE: 0.10348688815196287\n",
      "R2: 0.052402111119216555\n",
      "MSE: 0.21129063927319267\n",
      "nRMSE: 0.15322120511541934\n",
      "Execution Time (Raw): 2.1668999195098877\n",
      "Normalized Time (s/MB): 25.358920200892857\n",
      "Average CPU Usage: 10.8\n",
      "Sample Size: 1000\n",
      "--------------------------------------------------\n"
     ]
    },
    {
     "name": "stderr",
     "output_type": "stream",
     "text": [
      "c:\\Users\\manpr\\AppData\\Local\\Programs\\Python\\Python312\\Lib\\site-packages\\sklearn\\model_selection\\_search.py:307: UserWarning: The total space of parameters 1 is smaller than n_iter=10. Running 1 iterations. For exhaustive searches, use GridSearchCV.\n",
      "  warnings.warn(\n"
     ]
    },
    {
     "name": "stdout",
     "output_type": "stream",
     "text": [
      "Metrics for sample size 10000:\n",
      "RMSE: 0.43421427762704934\n",
      "MAPE: 0.12188268658383729\n",
      "R2: 0.12067896013655444\n",
      "MSE: 0.18854203889518026\n",
      "nRMSE: 0.1447380925423498\n",
      "Execution Time (Raw): 3.616272211074829\n",
      "Normalized Time (s/MB): 4.232071707589285\n",
      "Average CPU Usage: 11.95\n",
      "Sample Size: 10000\n",
      "--------------------------------------------------\n"
     ]
    },
    {
     "name": "stderr",
     "output_type": "stream",
     "text": [
      "c:\\Users\\manpr\\AppData\\Local\\Programs\\Python\\Python312\\Lib\\site-packages\\sklearn\\model_selection\\_search.py:307: UserWarning: The total space of parameters 1 is smaller than n_iter=10. Running 1 iterations. For exhaustive searches, use GridSearchCV.\n",
      "  warnings.warn(\n"
     ]
    },
    {
     "name": "stdout",
     "output_type": "stream",
     "text": [
      "Metrics for sample size 100000:\n",
      "RMSE: 0.42733441604496053\n",
      "MAPE: 0.11325189886399048\n",
      "R2: 0.10763862681534775\n",
      "MSE: 0.18261470313648742\n",
      "nRMSE: 0.14244480534832019\n",
      "Execution Time (Raw): 12.160685062408447\n",
      "Normalized Time (s/MB): 1.4231476004464285\n",
      "Average CPU Usage: 9.5\n",
      "Sample Size: 100000\n",
      "--------------------------------------------------\n"
     ]
    }
   ],
   "source": [
    "# Define sample sizes\n",
    "sample_sizes = [1.0, 0.5, 0.25, 0.125, 100, 1000, 10000, 100000]\n",
    "\n",
    "# Initialize metrics storage\n",
    "metrics_list = []\n",
    "total_execution_time = 0\n",
    "total_cpu_usage = 0\n",
    "total_memory_usage_MB = 0\n",
    "\n",
    "# Loop through each sample size\n",
    "for size in sample_sizes:\n",
    "    try:\n",
    "        X_train_sample, X_test_sample, y_train_sample, y_test_sample = sample_data(X, y, size)\n",
    "        metrics = calculate_metrics(X_train_sample, X_test_sample, y_train_sample, y_test_sample)\n",
    "        metrics['Sample Size'] = size\n",
    "        metrics_list.append(metrics)\n",
    "\n",
    "        # Accumulate total metrics\n",
    "        total_execution_time += metrics['Execution Time (Raw)']\n",
    "        total_cpu_usage += metrics['Average CPU Usage']\n",
    "        total_memory_usage_MB += X_train_sample.memory_usage(deep=True).sum() / (1024 ** 2)\n",
    "\n",
    "        print(f\"Metrics for sample size {size}:\")\n",
    "        for key, value in metrics.items():\n",
    "            print(f\"{key}: {value}\")\n",
    "        print(\"-\" * 50)\n",
    "\n",
    "    except Exception as e:\n",
    "        print(f\"An error occurred for sample size {size}: {e}\")\n"
   ]
  },
  {
   "cell_type": "code",
   "execution_count": 9,
   "metadata": {},
   "outputs": [
    {
     "name": "stdout",
     "output_type": "stream",
     "text": [
      "Total Execution Time for Entire Process (Raw): 42 minutes and 3.02 seconds\n",
      "Total Normalized Execution Time for Entire Process: 2.20218138 seconds per MB\n",
      "Total Average CPU Usage for Entire Process: 14.88%\n"
     ]
    },
    {
     "data": {
      "text/html": [
       "<div>\n",
       "<style scoped>\n",
       "    .dataframe tbody tr th:only-of-type {\n",
       "        vertical-align: middle;\n",
       "    }\n",
       "\n",
       "    .dataframe tbody tr th {\n",
       "        vertical-align: top;\n",
       "    }\n",
       "\n",
       "    .dataframe thead th {\n",
       "        text-align: right;\n",
       "    }\n",
       "</style>\n",
       "<table border=\"1\" class=\"dataframe\">\n",
       "  <thead>\n",
       "    <tr style=\"text-align: right;\">\n",
       "      <th></th>\n",
       "      <th>RMSE</th>\n",
       "      <th>MAPE</th>\n",
       "      <th>R2</th>\n",
       "      <th>MSE</th>\n",
       "      <th>nRMSE</th>\n",
       "      <th>Execution Time (Raw)</th>\n",
       "      <th>Normalized Time (s/MB)</th>\n",
       "      <th>Average CPU Usage</th>\n",
       "      <th>Sample Size</th>\n",
       "    </tr>\n",
       "  </thead>\n",
       "  <tbody>\n",
       "    <tr>\n",
       "      <th>0</th>\n",
       "      <td>0.433795</td>\n",
       "      <td>0.116380</td>\n",
       "      <td>0.114899</td>\n",
       "      <td>0.188178</td>\n",
       "      <td>0.144598</td>\n",
       "      <td>1325.296961</td>\n",
       "      <td>2.188081</td>\n",
       "      <td>44.75</td>\n",
       "      <td>1.000</td>\n",
       "    </tr>\n",
       "    <tr>\n",
       "      <th>1</th>\n",
       "      <td>0.429906</td>\n",
       "      <td>0.112539</td>\n",
       "      <td>0.112951</td>\n",
       "      <td>0.184819</td>\n",
       "      <td>0.143302</td>\n",
       "      <td>620.126658</td>\n",
       "      <td>2.045625</td>\n",
       "      <td>11.80</td>\n",
       "      <td>0.500</td>\n",
       "    </tr>\n",
       "    <tr>\n",
       "      <th>2</th>\n",
       "      <td>0.430146</td>\n",
       "      <td>0.112410</td>\n",
       "      <td>0.111959</td>\n",
       "      <td>0.185026</td>\n",
       "      <td>0.143382</td>\n",
       "      <td>424.109939</td>\n",
       "      <td>2.798041</td>\n",
       "      <td>10.55</td>\n",
       "      <td>0.250</td>\n",
       "    </tr>\n",
       "    <tr>\n",
       "      <th>3</th>\n",
       "      <td>0.430004</td>\n",
       "      <td>0.112380</td>\n",
       "      <td>0.112548</td>\n",
       "      <td>0.184903</td>\n",
       "      <td>0.143335</td>\n",
       "      <td>133.630721</td>\n",
       "      <td>1.763242</td>\n",
       "      <td>9.40</td>\n",
       "      <td>0.125</td>\n",
       "    </tr>\n",
       "    <tr>\n",
       "      <th>4</th>\n",
       "      <td>0.394920</td>\n",
       "      <td>0.111770</td>\n",
       "      <td>0.400148</td>\n",
       "      <td>0.155962</td>\n",
       "      <td>0.131640</td>\n",
       "      <td>1.911847</td>\n",
       "      <td>223.740737</td>\n",
       "      <td>10.25</td>\n",
       "      <td>100.000</td>\n",
       "    </tr>\n",
       "    <tr>\n",
       "      <th>5</th>\n",
       "      <td>0.459664</td>\n",
       "      <td>0.103487</td>\n",
       "      <td>0.052402</td>\n",
       "      <td>0.211291</td>\n",
       "      <td>0.153221</td>\n",
       "      <td>2.166900</td>\n",
       "      <td>25.358920</td>\n",
       "      <td>10.80</td>\n",
       "      <td>1000.000</td>\n",
       "    </tr>\n",
       "    <tr>\n",
       "      <th>6</th>\n",
       "      <td>0.434214</td>\n",
       "      <td>0.121883</td>\n",
       "      <td>0.120679</td>\n",
       "      <td>0.188542</td>\n",
       "      <td>0.144738</td>\n",
       "      <td>3.616272</td>\n",
       "      <td>4.232072</td>\n",
       "      <td>11.95</td>\n",
       "      <td>10000.000</td>\n",
       "    </tr>\n",
       "    <tr>\n",
       "      <th>7</th>\n",
       "      <td>0.427334</td>\n",
       "      <td>0.113252</td>\n",
       "      <td>0.107639</td>\n",
       "      <td>0.182615</td>\n",
       "      <td>0.142445</td>\n",
       "      <td>12.160685</td>\n",
       "      <td>1.423148</td>\n",
       "      <td>9.50</td>\n",
       "      <td>100000.000</td>\n",
       "    </tr>\n",
       "  </tbody>\n",
       "</table>\n",
       "</div>"
      ],
      "text/plain": [
       "       RMSE      MAPE        R2       MSE     nRMSE  Execution Time (Raw)  \\\n",
       "0  0.433795  0.116380  0.114899  0.188178  0.144598           1325.296961   \n",
       "1  0.429906  0.112539  0.112951  0.184819  0.143302            620.126658   \n",
       "2  0.430146  0.112410  0.111959  0.185026  0.143382            424.109939   \n",
       "3  0.430004  0.112380  0.112548  0.184903  0.143335            133.630721   \n",
       "4  0.394920  0.111770  0.400148  0.155962  0.131640              1.911847   \n",
       "5  0.459664  0.103487  0.052402  0.211291  0.153221              2.166900   \n",
       "6  0.434214  0.121883  0.120679  0.188542  0.144738              3.616272   \n",
       "7  0.427334  0.113252  0.107639  0.182615  0.142445             12.160685   \n",
       "\n",
       "   Normalized Time (s/MB)  Average CPU Usage  Sample Size  \n",
       "0                2.188081              44.75        1.000  \n",
       "1                2.045625              11.80        0.500  \n",
       "2                2.798041              10.55        0.250  \n",
       "3                1.763242               9.40        0.125  \n",
       "4              223.740737              10.25      100.000  \n",
       "5               25.358920              10.80     1000.000  \n",
       "6                4.232072              11.95    10000.000  \n",
       "7                1.423148               9.50   100000.000  "
      ]
     },
     "execution_count": 9,
     "metadata": {},
     "output_type": "execute_result"
    }
   ],
   "source": [
    "# Convert metrics to DataFrame\n",
    "metrics_df = pd.DataFrame(metrics_list)\n",
    "\n",
    "# Calculate total metrics\n",
    "total_avg_cpu_usage = total_cpu_usage / len(sample_sizes)\n",
    "normalized_total_time = total_execution_time / total_memory_usage_MB\n",
    "\n",
    "# Convert total execution time to minutes and seconds\n",
    "total_minutes = int(total_execution_time // 60)\n",
    "total_seconds = total_execution_time % 60\n",
    "\n",
    "# Display total metrics\n",
    "print(f\"Total Execution Time for Entire Process (Raw): {total_minutes} minutes and {total_seconds:.2f} seconds\")\n",
    "print(f\"Total Normalized Execution Time for Entire Process: {normalized_total_time:.8f} seconds per MB\")\n",
    "print(f\"Total Average CPU Usage for Entire Process: {total_avg_cpu_usage:.2f}%\")\n",
    "\n",
    "# Display the metrics DataFrame\n",
    "metrics_df\n"
   ]
  }
 ],
 "metadata": {
  "kernelspec": {
   "display_name": "Python 3",
   "language": "python",
   "name": "python3"
  },
  "language_info": {
   "codemirror_mode": {
    "name": "ipython",
    "version": 3
   },
   "file_extension": ".py",
   "mimetype": "text/x-python",
   "name": "python",
   "nbconvert_exporter": "python",
   "pygments_lexer": "ipython3",
   "version": "3.12.0"
  }
 },
 "nbformat": 4,
 "nbformat_minor": 2
}
